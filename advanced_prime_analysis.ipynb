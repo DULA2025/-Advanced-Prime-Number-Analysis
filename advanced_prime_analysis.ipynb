{
 "cells": [
  {
   "cell_type": "code",
   "execution_count": 19,
   "metadata": {
    "scrolled": true
   },
   "outputs": [
    {
     "name": "stdout",
     "output_type": "stream",
     "text": [
      "Empirical Density of Twin Primes: 165249.2916388995\n",
      "Theoretical Density of Twin Primes: 3.07442631338262e6\n",
      "Ratio (Empirical/Theoretical): 0.0537496348244186\n",
      "\n",
      "Number of primes in class 1: 25422713\n",
      "Number of primes in class 5: 25424819\n",
      "\n",
      "Primes with gap 8 up to 1000000000: [(3, 11), (5, 13), (11, 19), (23, 31), (29, 37), (53, 61), (59, 67), (71, 79), (89, 97), (101, 109)]...\n",
      "Number of prime pairs with gap 8: 3426124\n",
      "\n",
      "Primes with gap 10 up to 1000000000: [(3, 13), (7, 17), (13, 23), (19, 29), (31, 41), (37, 47), (43, 53), (61, 71), (73, 83), (79, 89)]...\n",
      "Number of prime pairs with gap 10: 4567691\n",
      "\n",
      "Primes with gap 12 up to 1000000000: [(5, 17), (7, 19), (11, 23), (17, 29), (19, 31), (29, 41), (31, 43), (41, 53), (47, 59), (59, 71)]...\n",
      "Number of prime pairs with gap 12: 6847940\n",
      "\n",
      "Primes with gap 14 up to 1000000000: [(3, 17), (5, 19), (17, 31), (23, 37), (29, 43), (47, 61), (53, 67), (59, 73), (83, 97), (89, 103)]...\n",
      "Number of prime pairs with gap 14: 4108774\n",
      "\n",
      "Chi-square Statistic: 1108809/12711883\n",
      "Note: For chi2 < 3.84 (1 df, p > 0.05), distribution is consistent with equal split\n",
      "Conclusion: Consistent with equal distribution\n"
     ]
    }
   ],
   "source": [
    "from sympy import primerange, log\n",
    "import math\n",
    "import matplotlib.pyplot as plt\n",
    "\n",
    "def advanced_prime_analysis(limit):\n",
    "    # Generate primes up to the limit using sympy's 64-bit capable primerange\n",
    "    primes = list(primerange(2, limit))\n",
    "    primes_set = set(primes)\n",
    "    \n",
    "    # Twin Primes\n",
    "    twin_primes = [(p, p + 2) for p in primes if p % 6 == 5 and (p + 2) in primes_set]\n",
    "    count_twins = len(twin_primes)\n",
    "    \n",
    "    # Density Analysis\n",
    "    C = 1.3203239  # Hardy-Littlewood constant for twin primes\n",
    "    theoretical_density_twins = C * limit / (math.log(limit)) ** 2\n",
    "    empirical_density_twins = count_twins / math.log(limit)\n",
    "    \n",
    "    print(f\"Empirical Density of Twin Primes: {empirical_density_twins}\")\n",
    "    print(f\"Theoretical Density of Twin Primes: {theoretical_density_twins}\")\n",
    "    print(f\"Ratio (Empirical/Theoretical): {empirical_density_twins / theoretical_density_twins}\")\n",
    "\n",
    "    # Prime counts in classes\n",
    "    primes_class_1 = [p for p in primes if p % 6 == 1]\n",
    "    primes_class_5 = [p for p in primes if p % 6 == 5]\n",
    "    print(f\"\\nNumber of primes in class 1: {len(primes_class_1)}\")\n",
    "    print(f\"Number of primes in class 5: {len(primes_class_5)}\")\n",
    "    \n",
    "    # Exploration of Other Gaps\n",
    "    gap_counts = []\n",
    "    for gap in [8, 10, 12, 14]:\n",
    "        gap_primes = [(p, p + gap) for p in primes if (p + gap) in primes_set]\n",
    "        print(f\"\\nPrimes with gap {gap} up to {limit}: {gap_primes[:10]}...\")\n",
    "        print(f\"Number of prime pairs with gap {gap}: {len(gap_primes)}\")\n",
    "        gap_counts.append(len(gap_primes))\n",
    "\n",
    "    # Statistical Analysis\n",
    "    total_primes = len(primes_class_1) + len(primes_class_5)\n",
    "    expected = total_primes / 2\n",
    "    chi2 = ((len(primes_class_1) - expected) ** 2 / expected) + ((len(primes_class_5) - expected) ** 2 / expected)\n",
    "    \n",
    "    print(f\"\\nChi-square Statistic: {chi2}\")\n",
    "    print(f\"Note: For chi2 < 3.84 (1 df, p > 0.05), distribution is consistent with equal split\")\n",
    "    print(f\"Conclusion: {'Consistent with equal distribution' if chi2 < 3.84 else 'Possible deviation'}\")\n",
    "    \n",
    "    # Plotting\n",
    "    gaps = [8, 10, 12, 14]\n",
    "    plt.figure(figsize=(10, 6))\n",
    "    plt.plot(gaps, gap_counts, 'o-')\n",
    "    plt.title('Number of Prime Pairs vs. Gap Size')\n",
    "    plt.xlabel('Gap Size')\n",
    "    plt.ylabel('Number of Pairs')\n",
    "    plt.grid(True)\n",
    "    plt.show()\n",
    "\n",
    "# Set the limit\n",
    "limit = 10000000000  # 10^10\n",
    "\n",
    "# Execute the function\n",
    "advanced_prime_analysis(limit)"
   ]
  },
  {
   "cell_type": "code",
   "execution_count": null,
   "metadata": {},
   "outputs": [],
   "source": []
  },
  {
   "cell_type": "code",
   "execution_count": null,
   "metadata": {},
   "outputs": [],
   "source": []
  }
 ],
 "metadata": {
  "kernelspec": {
   "display_name": "SageMath 9.0",
   "language": "sage",
   "name": "sagemath"
  },
  "language_info": {
   "codemirror_mode": {
    "name": "ipython",
    "version": 3
   },
   "file_extension": ".py",
   "mimetype": "text/x-python",
   "name": "python",
   "nbconvert_exporter": "python",
   "pygments_lexer": "ipython3",
   "version": "3.8.10"
  }
 },
 "nbformat": 4,
 "nbformat_minor": 4
}
